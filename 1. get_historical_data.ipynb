{
 "cells": [
  {
   "cell_type": "code",
   "execution_count": null,
   "metadata": {},
   "outputs": [],
   "source": [
    "import time  # Import time module (currently unused, can be removed or used for time-based operations)\n",
    "import argparse  # Import argparse module to handle command-line arguments (unused in the current code)\n",
    "import requests  # Import requests module (not currently used, can be removed if not needed)\n",
    "from binance.client import Client  # Import Binance API client to fetch historical data from Binance\n",
    "import pandas as pd  # Import pandas for data manipulation and analysis"
   ]
  },
  {
   "cell_type": "code",
   "execution_count": null,
   "metadata": {},
   "outputs": [],
   "source": [
    "# Binance API keys (must be populated with valid API credentials)\n",
    "api_key = \"\"\n",
    "secret_key = \"\""
   ]
  },
  {
   "cell_type": "code",
   "execution_count": null,
   "metadata": {},
   "outputs": [],
   "source": [
    "# Initialize Binance Client with the provided API keys and set TLD to \"com\" for Binance's global platform\n",
    "client = Client(api_key=api_key, api_secret=secret_key, tld=\"com\")"
   ]
  },
  {
   "cell_type": "code",
   "execution_count": null,
   "metadata": {},
   "outputs": [],
   "source": [
    "# Function to fetch historical price data from Binance\n",
    "# Parameters: \n",
    "#   symbol: Trading pair (e.g., ETHUSDT)\n",
    "#   interval: Time interval for each candlestick (e.g., '4h')\n",
    "#   start: Start date of historical data\n",
    "#   end: Optional end date of historical data\n",
    "def get_history(symbol, interval, start, end=None):\n",
    "    # Fetch historical klines (candlesticks) from Binance\n",
    "    bars = client.get_historical_klines(symbol=symbol, interval=interval, start_str=start, end_str=end)\n",
    "    \n",
    "    # Convert the fetched data into a pandas DataFrame\n",
    "    df = pd.DataFrame(bars)\n",
    "    \n",
    "    # Convert the first column to a DateTime format (timestamp in milliseconds)\n",
    "    df[\"Date\"] = pd.to_datetime(df.iloc[:, 0], unit=\"ms\")\n",
    "    \n",
    "    # Rename columns for clarity and include relevant fields in the DataFrame\n",
    "    df.columns = [\"Open Time\", \"Open\", \"High\", \"Low\", \"Close\", \"Volume\",\n",
    "                  \"Close Time\", \"Quote Asset Volume\", \"Number of Trades\",\n",
    "                  \"Taker Buy Base Asset Volume\", \"Taker Buy Quote Asset Volume\", \"Ignore\", \"Date\"]\n",
    "    \n",
    "    # Keep only relevant columns and set \"Date\" as the DataFrame index\n",
    "    df = df[[\"Date\", \"Open\", \"High\", \"Low\", \"Close\", \"Volume\"]].copy()\n",
    "    df.set_index(\"Date\", inplace=True)\n",
    "    \n",
    "    # Convert data columns to numeric format (coerce any errors to NaN)\n",
    "    for column in df.columns:\n",
    "        df[column] = pd.to_numeric(df[column], errors=\"coerce\")\n",
    "    \n",
    "    return df  # Return the processed DataFrame"
   ]
  },
  {
   "cell_type": "code",
   "execution_count": null,
   "metadata": {},
   "outputs": [],
   "source": [
    "# Main script entry point\n",
    "if __name__ == \"__main__\":\n",
    "    # Define parameters for fetching historical data\n",
    "    symbol = \"ETHUSDT\"  # Trading pair: Ethereum to USDT\n",
    "    interval = \"4h\"  # 4-hour time interval for each candlestick\n",
    "    start = \"2017-08-01\"  # Start date for historical data\n",
    "    end = \"2023-04-11\"  # End date for historical data\n",
    "    \n",
    "    # Fetch historical data using the get_history function\n",
    "    dfhd = get_history(symbol=symbol, interval=interval, start=start, end=end)\n",
    "    \n",
    "    # Print the fetched data to the console\n",
    "    print(dfhd)\n",
    "    print(\"done\")"
   ]
  },
  {
   "cell_type": "code",
   "execution_count": null,
   "metadata": {},
   "outputs": [],
   "source": [
    "# Save the DataFrame as a CSV file for future analysis\n",
    "dfhd.to_csv(\"ethusdt_history.csv\")\n",
    "\n",
    "# Print confirmation messages\n",
    "print(\"Data saved to ethusdt_history.csv\")\n",
    "print(dfhd)\n",
    "print(\"done\")"
   ]
  }
 ],
 "metadata": {
  "language_info": {
   "name": "python"
  },
  "orig_nbformat": 4
 },
 "nbformat": 4,
 "nbformat_minor": 2
}
